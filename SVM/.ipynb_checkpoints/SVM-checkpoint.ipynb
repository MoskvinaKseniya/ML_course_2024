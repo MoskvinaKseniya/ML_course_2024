{
 "cells": [
  {
   "cell_type": "markdown",
   "id": "bc2ad945",
   "metadata": {
    "id": "bc2ad945"
   },
   "source": [
    "# SVM Support Vector Machine (Метод опорных векторов)\n",
    "\n",
    "Применение алгоритма SVM для решения задачи классификации.\n",
    "\n",
    "\n",
    "### Датасет\n",
    "Рассматривать задачу будем на примере известного датасета **Цветки Ириса**\n",
    "\n",
    "Датасет [Цветки Ириса](https://archive.ics.uci.edu/ml/datasets/iris) содержит 150 записей, каждая из записей содержит 4 признака, т.е. $\\boldsymbol x \\in \\mathbb{R}^4$.\n",
    "\n",
    "Что за 4 признака?\n",
    "\n",
    "0. длина чашелистника, см\n",
    "1. ширина чашелистника, см\n",
    "2. длина лепестка, см\n",
    "3. ширина лепестка, см\n",
    "\n",
    "Метки классов\n",
    "\n",
    "0. Setosa\n",
    "1. Versicolour\n",
    "2. Virginica"
   ]
  },
  {
   "cell_type": "markdown",
   "id": "3f6a0337",
   "metadata": {
    "id": "3f6a0337"
   },
   "source": [
    "## 0. Импорт библиотек"
   ]
  },
  {
   "cell_type": "code",
   "execution_count": 1,
   "id": "9e702307",
   "metadata": {
    "executionInfo": {
     "elapsed": 4476,
     "status": "ok",
     "timestamp": 1739357640901,
     "user": {
      "displayName": "Дмитрий Перец",
      "userId": "01071617569948781035"
     },
     "user_tz": -180
    },
    "id": "9e702307"
   },
   "outputs": [],
   "source": [
    "# программная реализация алгоритма SVM для классификации\n",
    "from sklearn.svm import SVC\n",
    "# программная реализация расчета метрики точности\n",
    "from sklearn.metrics import accuracy_score\n",
    "# модуль для разделения выборки на тестовую и обучающую\n",
    "from sklearn.model_selection import train_test_split\n",
    "\n",
    "# модуль, позволяющий подтягивать данные по хрестоматийным примерам для ML\n",
    "from sklearn import datasets\n",
    "\n",
    "# модули визуализации данных\n",
    "import seaborn as sns\n",
    "import matplotlib.pyplot as plt\n",
    "\n",
    "# Библиотеки для работы с векторами и таблицыми данных\n",
    "import pandas as pd\n",
    "import numpy as np\n",
    "\n",
    "# Модуль для нормализации данных\n",
    "from sklearn.preprocessing import normalize"
   ]
  },
  {
   "cell_type": "markdown",
   "id": "55c5ea96",
   "metadata": {
    "id": "55c5ea96"
   },
   "source": [
    "## 1. Загружаем данные по цветкам ирисов\n",
    "\n",
    "Для этого воспользуемся встроенным в библиотеке scikit-learn модулем datasets"
   ]
  },
  {
   "cell_type": "code",
   "execution_count": 2,
   "id": "9f791c71",
   "metadata": {
    "executionInfo": {
     "elapsed": 8,
     "status": "ok",
     "timestamp": 1739357640902,
     "user": {
      "displayName": "Дмитрий Перец",
      "userId": "01071617569948781035"
     },
     "user_tz": -180
    },
    "id": "9f791c71"
   },
   "outputs": [],
   "source": [
    "iris = datasets.load_iris()"
   ]
  },
  {
   "cell_type": "code",
   "execution_count": 3,
   "id": "3ffbb917",
   "metadata": {
    "colab": {
     "base_uri": "https://localhost:8080/"
    },
    "executionInfo": {
     "elapsed": 7,
     "status": "ok",
     "timestamp": 1739357640902,
     "user": {
      "displayName": "Дмитрий Перец",
      "userId": "01071617569948781035"
     },
     "user_tz": -180
    },
    "id": "3ffbb917",
    "outputId": "2954a647-1584-4f5d-8663-ffe1bd62bdaa"
   },
   "outputs": [
    {
     "data": {
      "text/plain": [
       "['sepal length (cm)',\n",
       " 'sepal width (cm)',\n",
       " 'petal length (cm)',\n",
       " 'petal width (cm)']"
      ]
     },
     "execution_count": 3,
     "metadata": {},
     "output_type": "execute_result"
    }
   ],
   "source": [
    "iris.feature_names"
   ]
  },
  {
   "cell_type": "code",
   "execution_count": 4,
   "id": "dd4ed262",
   "metadata": {
    "colab": {
     "base_uri": "https://localhost:8080/"
    },
    "executionInfo": {
     "elapsed": 5,
     "status": "ok",
     "timestamp": 1739357640902,
     "user": {
      "displayName": "Дмитрий Перец",
      "userId": "01071617569948781035"
     },
     "user_tz": -180
    },
    "id": "dd4ed262",
    "outputId": "65092f99-e4c3-43d2-dcde-e2db40d141e5",
    "scrolled": true
   },
   "outputs": [
    {
     "data": {
      "text/plain": [
       "array([[5.1, 3.5, 1.4, 0.2],\n",
       "       [4.9, 3. , 1.4, 0.2],\n",
       "       [4.7, 3.2, 1.3, 0.2],\n",
       "       [4.6, 3.1, 1.5, 0.2],\n",
       "       [5. , 3.6, 1.4, 0.2],\n",
       "       [5.4, 3.9, 1.7, 0.4],\n",
       "       [4.6, 3.4, 1.4, 0.3],\n",
       "       [5. , 3.4, 1.5, 0.2],\n",
       "       [4.4, 2.9, 1.4, 0.2],\n",
       "       [4.9, 3.1, 1.5, 0.1],\n",
       "       [5.4, 3.7, 1.5, 0.2],\n",
       "       [4.8, 3.4, 1.6, 0.2],\n",
       "       [4.8, 3. , 1.4, 0.1],\n",
       "       [4.3, 3. , 1.1, 0.1],\n",
       "       [5.8, 4. , 1.2, 0.2],\n",
       "       [5.7, 4.4, 1.5, 0.4],\n",
       "       [5.4, 3.9, 1.3, 0.4],\n",
       "       [5.1, 3.5, 1.4, 0.3],\n",
       "       [5.7, 3.8, 1.7, 0.3],\n",
       "       [5.1, 3.8, 1.5, 0.3],\n",
       "       [5.4, 3.4, 1.7, 0.2],\n",
       "       [5.1, 3.7, 1.5, 0.4],\n",
       "       [4.6, 3.6, 1. , 0.2],\n",
       "       [5.1, 3.3, 1.7, 0.5],\n",
       "       [4.8, 3.4, 1.9, 0.2],\n",
       "       [5. , 3. , 1.6, 0.2],\n",
       "       [5. , 3.4, 1.6, 0.4],\n",
       "       [5.2, 3.5, 1.5, 0.2],\n",
       "       [5.2, 3.4, 1.4, 0.2],\n",
       "       [4.7, 3.2, 1.6, 0.2],\n",
       "       [4.8, 3.1, 1.6, 0.2],\n",
       "       [5.4, 3.4, 1.5, 0.4],\n",
       "       [5.2, 4.1, 1.5, 0.1],\n",
       "       [5.5, 4.2, 1.4, 0.2],\n",
       "       [4.9, 3.1, 1.5, 0.2],\n",
       "       [5. , 3.2, 1.2, 0.2],\n",
       "       [5.5, 3.5, 1.3, 0.2],\n",
       "       [4.9, 3.6, 1.4, 0.1],\n",
       "       [4.4, 3. , 1.3, 0.2],\n",
       "       [5.1, 3.4, 1.5, 0.2],\n",
       "       [5. , 3.5, 1.3, 0.3],\n",
       "       [4.5, 2.3, 1.3, 0.3],\n",
       "       [4.4, 3.2, 1.3, 0.2],\n",
       "       [5. , 3.5, 1.6, 0.6],\n",
       "       [5.1, 3.8, 1.9, 0.4],\n",
       "       [4.8, 3. , 1.4, 0.3],\n",
       "       [5.1, 3.8, 1.6, 0.2],\n",
       "       [4.6, 3.2, 1.4, 0.2],\n",
       "       [5.3, 3.7, 1.5, 0.2],\n",
       "       [5. , 3.3, 1.4, 0.2],\n",
       "       [7. , 3.2, 4.7, 1.4],\n",
       "       [6.4, 3.2, 4.5, 1.5],\n",
       "       [6.9, 3.1, 4.9, 1.5],\n",
       "       [5.5, 2.3, 4. , 1.3],\n",
       "       [6.5, 2.8, 4.6, 1.5],\n",
       "       [5.7, 2.8, 4.5, 1.3],\n",
       "       [6.3, 3.3, 4.7, 1.6],\n",
       "       [4.9, 2.4, 3.3, 1. ],\n",
       "       [6.6, 2.9, 4.6, 1.3],\n",
       "       [5.2, 2.7, 3.9, 1.4],\n",
       "       [5. , 2. , 3.5, 1. ],\n",
       "       [5.9, 3. , 4.2, 1.5],\n",
       "       [6. , 2.2, 4. , 1. ],\n",
       "       [6.1, 2.9, 4.7, 1.4],\n",
       "       [5.6, 2.9, 3.6, 1.3],\n",
       "       [6.7, 3.1, 4.4, 1.4],\n",
       "       [5.6, 3. , 4.5, 1.5],\n",
       "       [5.8, 2.7, 4.1, 1. ],\n",
       "       [6.2, 2.2, 4.5, 1.5],\n",
       "       [5.6, 2.5, 3.9, 1.1],\n",
       "       [5.9, 3.2, 4.8, 1.8],\n",
       "       [6.1, 2.8, 4. , 1.3],\n",
       "       [6.3, 2.5, 4.9, 1.5],\n",
       "       [6.1, 2.8, 4.7, 1.2],\n",
       "       [6.4, 2.9, 4.3, 1.3],\n",
       "       [6.6, 3. , 4.4, 1.4],\n",
       "       [6.8, 2.8, 4.8, 1.4],\n",
       "       [6.7, 3. , 5. , 1.7],\n",
       "       [6. , 2.9, 4.5, 1.5],\n",
       "       [5.7, 2.6, 3.5, 1. ],\n",
       "       [5.5, 2.4, 3.8, 1.1],\n",
       "       [5.5, 2.4, 3.7, 1. ],\n",
       "       [5.8, 2.7, 3.9, 1.2],\n",
       "       [6. , 2.7, 5.1, 1.6],\n",
       "       [5.4, 3. , 4.5, 1.5],\n",
       "       [6. , 3.4, 4.5, 1.6],\n",
       "       [6.7, 3.1, 4.7, 1.5],\n",
       "       [6.3, 2.3, 4.4, 1.3],\n",
       "       [5.6, 3. , 4.1, 1.3],\n",
       "       [5.5, 2.5, 4. , 1.3],\n",
       "       [5.5, 2.6, 4.4, 1.2],\n",
       "       [6.1, 3. , 4.6, 1.4],\n",
       "       [5.8, 2.6, 4. , 1.2],\n",
       "       [5. , 2.3, 3.3, 1. ],\n",
       "       [5.6, 2.7, 4.2, 1.3],\n",
       "       [5.7, 3. , 4.2, 1.2],\n",
       "       [5.7, 2.9, 4.2, 1.3],\n",
       "       [6.2, 2.9, 4.3, 1.3],\n",
       "       [5.1, 2.5, 3. , 1.1],\n",
       "       [5.7, 2.8, 4.1, 1.3],\n",
       "       [6.3, 3.3, 6. , 2.5],\n",
       "       [5.8, 2.7, 5.1, 1.9],\n",
       "       [7.1, 3. , 5.9, 2.1],\n",
       "       [6.3, 2.9, 5.6, 1.8],\n",
       "       [6.5, 3. , 5.8, 2.2],\n",
       "       [7.6, 3. , 6.6, 2.1],\n",
       "       [4.9, 2.5, 4.5, 1.7],\n",
       "       [7.3, 2.9, 6.3, 1.8],\n",
       "       [6.7, 2.5, 5.8, 1.8],\n",
       "       [7.2, 3.6, 6.1, 2.5],\n",
       "       [6.5, 3.2, 5.1, 2. ],\n",
       "       [6.4, 2.7, 5.3, 1.9],\n",
       "       [6.8, 3. , 5.5, 2.1],\n",
       "       [5.7, 2.5, 5. , 2. ],\n",
       "       [5.8, 2.8, 5.1, 2.4],\n",
       "       [6.4, 3.2, 5.3, 2.3],\n",
       "       [6.5, 3. , 5.5, 1.8],\n",
       "       [7.7, 3.8, 6.7, 2.2],\n",
       "       [7.7, 2.6, 6.9, 2.3],\n",
       "       [6. , 2.2, 5. , 1.5],\n",
       "       [6.9, 3.2, 5.7, 2.3],\n",
       "       [5.6, 2.8, 4.9, 2. ],\n",
       "       [7.7, 2.8, 6.7, 2. ],\n",
       "       [6.3, 2.7, 4.9, 1.8],\n",
       "       [6.7, 3.3, 5.7, 2.1],\n",
       "       [7.2, 3.2, 6. , 1.8],\n",
       "       [6.2, 2.8, 4.8, 1.8],\n",
       "       [6.1, 3. , 4.9, 1.8],\n",
       "       [6.4, 2.8, 5.6, 2.1],\n",
       "       [7.2, 3. , 5.8, 1.6],\n",
       "       [7.4, 2.8, 6.1, 1.9],\n",
       "       [7.9, 3.8, 6.4, 2. ],\n",
       "       [6.4, 2.8, 5.6, 2.2],\n",
       "       [6.3, 2.8, 5.1, 1.5],\n",
       "       [6.1, 2.6, 5.6, 1.4],\n",
       "       [7.7, 3. , 6.1, 2.3],\n",
       "       [6.3, 3.4, 5.6, 2.4],\n",
       "       [6.4, 3.1, 5.5, 1.8],\n",
       "       [6. , 3. , 4.8, 1.8],\n",
       "       [6.9, 3.1, 5.4, 2.1],\n",
       "       [6.7, 3.1, 5.6, 2.4],\n",
       "       [6.9, 3.1, 5.1, 2.3],\n",
       "       [5.8, 2.7, 5.1, 1.9],\n",
       "       [6.8, 3.2, 5.9, 2.3],\n",
       "       [6.7, 3.3, 5.7, 2.5],\n",
       "       [6.7, 3. , 5.2, 2.3],\n",
       "       [6.3, 2.5, 5. , 1.9],\n",
       "       [6.5, 3. , 5.2, 2. ],\n",
       "       [6.2, 3.4, 5.4, 2.3],\n",
       "       [5.9, 3. , 5.1, 1.8]])"
      ]
     },
     "execution_count": 4,
     "metadata": {},
     "output_type": "execute_result"
    }
   ],
   "source": [
    "# Информация по признакам\n",
    "iris.data"
   ]
  },
  {
   "cell_type": "code",
   "execution_count": null,
   "id": "595e8c7a",
   "metadata": {
    "id": "595e8c7a"
   },
   "outputs": [],
   "source": [
    "# Информация по целевой переменной (классам цветка)\n",
    "iris.target"
   ]
  },
  {
   "cell_type": "code",
   "execution_count": null,
   "id": "20a087f7",
   "metadata": {
    "id": "20a087f7"
   },
   "outputs": [],
   "source": [
    "# Выведем информацию по размерности датасета и целевой переменной\n",
    "# чтобы убедиться, что размерности совпадают\n",
    "print('Размерность признакового пространства {}'.format(iris.data.shape))\n",
    "print('Размерность вектора целевой переменной {}'.format(iris.target.shape))"
   ]
  },
  {
   "cell_type": "code",
   "execution_count": null,
   "id": "22d7c45c",
   "metadata": {
    "id": "22d7c45c"
   },
   "outputs": [],
   "source": [
    "# Вынесем признаки и целевую перемнную в отдельные переменные\n",
    "X = iris.data[:, :4]\n",
    "y = iris.target"
   ]
  },
  {
   "cell_type": "code",
   "execution_count": null,
   "id": "22c958e4",
   "metadata": {
    "id": "22c958e4",
    "scrolled": true
   },
   "outputs": [],
   "source": [
    "# Посмотрим на гистограмму распределения целевой переменной\n",
    "sns.histplot(y);"
   ]
  },
  {
   "cell_type": "markdown",
   "id": "fb5c0ffc",
   "metadata": {
    "id": "fb5c0ffc"
   },
   "source": [
    "Данные очень хорошо сбалансированы - каждого класса по 50 объектов."
   ]
  },
  {
   "cell_type": "code",
   "execution_count": null,
   "id": "81a5f9b4",
   "metadata": {
    "id": "81a5f9b4"
   },
   "outputs": [],
   "source": [
    "# Создадим dataframe на основании исходных данных\n",
    "# для простоты отображения графиков\n",
    "iris_df = pd.DataFrame(np.c_[iris.data, iris.target], columns=['sepal length (cm)',\n",
    "                                                               'sepal width (cm)',\n",
    "                                                               'petal length (cm)',\n",
    "                                                               'petal width (cm)',\n",
    "                                                               'class'])"
   ]
  },
  {
   "cell_type": "code",
   "execution_count": null,
   "id": "e3c07447",
   "metadata": {
    "id": "e3c07447"
   },
   "outputs": [],
   "source": [
    "# При помощи модуля seaborn.pairplot визуализируем попарные зависимости данных\n",
    "# На основной диагонали показаные гистограммы распределения параметров\n",
    "sns.pairplot(iris_df,hue='class',palette='Dark2');"
   ]
  },
  {
   "cell_type": "markdown",
   "id": "9599a70e",
   "metadata": {
    "id": "9599a70e"
   },
   "source": [
    "# 2. Обучение модели\n",
    "\n",
    "Прежде чем приступить к обучению модели, предварительно создадим функцию, которая будет визуализировать границы классов на основании обученных моделей"
   ]
  },
  {
   "cell_type": "code",
   "execution_count": null,
   "id": "9b3bd4fb",
   "metadata": {
    "id": "9b3bd4fb"
   },
   "outputs": [],
   "source": [
    "def plot_contours(X_train, X_test, y_test, model):\n",
    "    h = .02  # шаг сетки\n",
    "    # Создадим сетку для отображения\n",
    "    x_min, x_max = X_test[:, 0].min()*0.9, X_test[:, 0].max()*1.1\n",
    "    y_min, y_max = X_test[:, 1].min()*0.9, X_test[:, 1].max()*1.1\n",
    "    xx, yy = np.meshgrid(np.arange(x_min, x_max, h),\n",
    "                     np.arange(y_min, y_max, h))\n",
    "\n",
    "    y_pred = model.predict(np.c_[xx.ravel(), yy.ravel()])\n",
    "    # \"Восстановим\" прогнозные точки на новой сетке\n",
    "    y_pred = y_pred.reshape(xx.shape)\n",
    "    plt.figure()\n",
    "    plt.contourf(xx, yy, y_pred, cmap=plt.cm.seismic, alpha=0.8)\n",
    "\n",
    "    # Добавим на график точки из датасета\n",
    "    plt.scatter(X_test[:, 0], X_test[:, 1], c=y_test, cmap=plt.cm.seismic)\n",
    "    plt.xlim(xx.min(), xx.max())\n",
    "    plt.ylim(yy.min(), yy.max())\n",
    "\n",
    "def print_acc(y_test, y_pred, text):\n",
    "    accuracy = accuracy_score(y_test, y_pred)*100\n",
    "    print(text + str(round(accuracy, 2)) + ' %.')"
   ]
  },
  {
   "cell_type": "code",
   "execution_count": null,
   "id": "3cb43a16",
   "metadata": {
    "id": "3cb43a16"
   },
   "outputs": [],
   "source": [
    "X = iris_df.drop('class', axis=1)\n",
    "y = iris_df['class']\n",
    "\n",
    "X_train, X_test, y_train, y_test = train_test_split(X, y, test_size = 0.20, random_state=21)"
   ]
  },
  {
   "cell_type": "code",
   "execution_count": null,
   "id": "20659885",
   "metadata": {
    "id": "20659885"
   },
   "outputs": [],
   "source": [
    "# Создадим объект класса SVM с параметрами по умолчанию\n",
    "classifier_SVM = SVC()\n",
    "\n",
    "# Обучение модели\n",
    "classifier_SVM.fit(X_train, y_train)\n",
    "\n",
    "# Прогноз\n",
    "y_pred = classifier_SVM.predict(X_test)"
   ]
  },
  {
   "cell_type": "code",
   "execution_count": null,
   "id": "96d71fe0",
   "metadata": {
    "id": "96d71fe0"
   },
   "outputs": [],
   "source": [
    "# Посчитаем точность модели как долю верно классифицированных объектов\n",
    "print_acc(y_test, y_pred, 'Точность на тестовой выборке ')"
   ]
  },
  {
   "cell_type": "markdown",
   "id": "28882d32",
   "metadata": {
    "id": "28882d32"
   },
   "source": [
    "## 2.1. Параметры SVM\n",
    "### Ядро\n",
    "\n",
    "**Линейное ядро**\n",
    "\n",
    "Линейные ядра вычисляют близость во входном пространстве. Они неявно определяют трансформацию в измерения более высоких порядков. Из-за этого каждая из гиперплоскостей на рисунке выше представляет собой прямые линии.\n",
    "\n",
    "Линейное ядро определяется как $\\langle x,x' \\rangle$"
   ]
  },
  {
   "cell_type": "code",
   "execution_count": null,
   "id": "6be44b6d",
   "metadata": {
    "id": "6be44b6d"
   },
   "outputs": [],
   "source": [
    "X_vis = X[['sepal length (cm)', 'sepal width (cm)']]\n",
    "X_train, X_test, y_train, y_test = train_test_split(X_vis, y, test_size = 0.20, random_state=21)"
   ]
  },
  {
   "cell_type": "code",
   "execution_count": null,
   "id": "36d996aa",
   "metadata": {
    "id": "36d996aa"
   },
   "outputs": [],
   "source": [
    "# Создадим объект класса SVM c линейным ядром\n",
    "SVM_linear = SVC(kernel='linear')\n",
    "\n",
    "# Обучение модели\n",
    "SVM_linear.fit(X_train, y_train);\n",
    "\n",
    "# Выведем границы классов по модели\n",
    "plot_contours(X_train.values, X_test.values, y_test.values, SVM_linear)"
   ]
  },
  {
   "cell_type": "code",
   "execution_count": null,
   "id": "34c0b4be",
   "metadata": {
    "id": "34c0b4be"
   },
   "outputs": [],
   "source": [
    "# Посчитаем точность модели как долю верно классифицированных объектов\n",
    "y_pred = SVM_linear.predict(X_test)\n",
    "print_acc(y_test, y_pred, 'Линейное ядро. Точность на тестовой выборке ')"
   ]
  },
  {
   "cell_type": "markdown",
   "id": "16d84c4b",
   "metadata": {
    "id": "16d84c4b"
   },
   "source": [
    "**Полиномиальное ядро**\n",
    "\n",
    "Линейное ядро - частный случай полиномиального, когда степень = 1.\n",
    "\n",
    "Полиномиальное ядро определяется как $(\\gamma\\langle x,x' + r \\rangle)^d$, где где $d$ указывается параметром `degree`, $r$ при помощи `coef0`.\n",
    "\n",
    "Ядро полинома позволяет нам искать нелинейные паттерны в наших данных, как если бы у нас был доступ к функциям взаимодействия, которые являются результатом объединения ранее существующих функций ($a^2, b^2, ab$ и т.д.)"
   ]
  },
  {
   "cell_type": "code",
   "execution_count": null,
   "id": "c6fd81ff",
   "metadata": {
    "id": "c6fd81ff"
   },
   "outputs": [],
   "source": [
    "# Создадим объект класса SVM c полиномиальным ядром и степенью полинома 3\n",
    "SVM_poly = SVC(kernel='poly', degree=3)\n",
    "\n",
    "# Обучение модели\n",
    "SVM_poly.fit(X_train, y_train);\n",
    "\n",
    "# Выведем границы классов по модели\n",
    "plot_contours(X_train.values, X_test.values, y_test.values, SVM_poly)"
   ]
  },
  {
   "cell_type": "code",
   "execution_count": null,
   "id": "1c9977c4",
   "metadata": {
    "id": "1c9977c4"
   },
   "outputs": [],
   "source": [
    "# Посчитаем точность модели как долю верно классифицированных объектов\n",
    "y_pred = SVM_poly.predict(X_test)\n",
    "print_acc(y_test, y_pred, 'Полиномиальное ядро. Точность на тестовой выборке ')"
   ]
  },
  {
   "cell_type": "markdown",
   "id": "4f9f6eb0",
   "metadata": {
    "id": "4f9f6eb0"
   },
   "source": [
    "**Сигмовидное ядро**\n",
    "\n",
    "Ядро определяется как $tanh(\\gamma\\langle x,x'\\rangle+r)$, где $r$ указывается как `coef0`"
   ]
  },
  {
   "cell_type": "code",
   "execution_count": null,
   "id": "afaaf87c",
   "metadata": {
    "id": "afaaf87c"
   },
   "outputs": [],
   "source": [
    "# Создадим объект класса SVM c сигмовидным ядром\n",
    "SVM_sigmoid = SVC(kernel='sigmoid', gamma=\"auto\")\n",
    "\n",
    "# Обучение модели\n",
    "SVM_sigmoid.fit(X_train, y_train);\n",
    "\n",
    "# Выведем границы классов по модели\n",
    "plot_contours(X_train.values, X_test.values, y_test.values, SVM_sigmoid)"
   ]
  },
  {
   "cell_type": "code",
   "execution_count": null,
   "id": "e98b8167",
   "metadata": {
    "id": "e98b8167"
   },
   "outputs": [],
   "source": [
    "# Посчитаем точность модели как долю верно классифицированных объектов\n",
    "y_pred = SVM_sigmoid.predict(X_test)\n",
    "print_acc(y_test, y_pred, 'Сигмоидальное ядро. Точность на тестовой выборке ')"
   ]
  },
  {
   "cell_type": "code",
   "execution_count": null,
   "id": "65cebbb5",
   "metadata": {
    "id": "65cebbb5"
   },
   "outputs": [],
   "source": [
    "sepal_length_norm = normalize(X.values[:,0].reshape(1, -1))[0]\n",
    "sepal_width_norm = normalize(X.values[:,1].reshape(1, -1))[0]\n",
    "\n",
    "# Создадим объект класса SVM c сигмоидальным ядром\n",
    "SVM_sigmoid_norm = SVC(kernel='sigmoid', gamma=\"auto\")\n",
    "\n",
    "# Обучение модели\n",
    "SVM_sigmoid_norm.fit(np.c_[sepal_length_norm, sepal_width_norm], y);\n",
    "\n",
    "# Выведем границы классов по модели\n",
    "plot_contours(np.c_[sepal_length_norm, sepal_width_norm], np.c_[sepal_length_norm, sepal_width_norm], y.values, SVM_sigmoid_norm)"
   ]
  },
  {
   "cell_type": "code",
   "execution_count": null,
   "id": "b4ddaf95",
   "metadata": {
    "id": "b4ddaf95"
   },
   "outputs": [],
   "source": [
    "# Посчитаем точность модели как долю верно классифицированных объектов\n",
    "y_pred = SVM_sigmoid_norm.predict(np.c_[sepal_length_norm, sepal_width_norm])\n",
    "print_acc(y, y_pred, 'Сигмоидальное ядро. Точность на полной выборке ')"
   ]
  },
  {
   "cell_type": "markdown",
   "id": "e77d9141",
   "metadata": {
    "id": "e77d9141"
   },
   "source": [
    "**Радиальная базисная функция**\n",
    "\n",
    "Ядро выглядит как $exp(-\\gamma|x-x'|^2)$, где $\\gamma$ указывается параметром `gamma`, должно быть строго больше 0.\n",
    "\n",
    "При обучении `SVM` с ядром Радиальной Базовой Функции (Radial Basis Function — RBF) необходимо учитывать два параметра: `C` и gamma. Параметр `C`, общий для всех ядер `SVM`, компенсирует неправильную классификацию обучающих примеров простотой поверхности принятия решений. Низкое значение `C` делает поверхность принятия решения гладкой, а высокое `C` правильные классификации всех обучающих примеров. gamma определяет, какое влияние имеет один обучающий пример. Чем больше `gamma`, тем ближе другие примеры должны быть затронуты.\n",
    "\n",
    "Правильный выбор `C` и `gamma` имеет решающее значение для производительности SVM. Рекомендуется использовать `GridSearchCV` с `C` и `gamma` экспоненциально далеко друг от друга, чтобы выбрать хорошие значения."
   ]
  },
  {
   "cell_type": "code",
   "execution_count": null,
   "id": "322ed8a8",
   "metadata": {
    "id": "322ed8a8"
   },
   "outputs": [],
   "source": [
    "# Создадим объект класса SVM c РБФ ядром\n",
    "SVM_RBF = SVC(kernel='rbf')\n",
    "\n",
    "# Обучение модели\n",
    "SVM_RBF.fit(X_train, y_train);\n",
    "\n",
    "# Выведем границы классов по модели\n",
    "plot_contours(X_train.values, X_test.values, y_test.values, SVM_RBF)"
   ]
  },
  {
   "cell_type": "code",
   "execution_count": null,
   "id": "6cc1c961",
   "metadata": {
    "id": "6cc1c961"
   },
   "outputs": [],
   "source": [
    "# Посчитаем точность модели как долю верно классифицированных объектов\n",
    "y_pred = SVM_RBF.predict(X_test)\n",
    "print_acc(y_test, y_pred, 'РБФ ядро. Точность на тестовой выборке ')"
   ]
  },
  {
   "cell_type": "markdown",
   "id": "39dfa8d1",
   "metadata": {
    "id": "39dfa8d1"
   },
   "source": [
    "### C: параметр штрафа\n",
    "\n",
    "Как мы уже и проговорили, параметр `C` компенсирует неправильную классификацию обучающих примеров простотой поверхности принятия решений. Давайте посмотрим как будут выглядеть разделяющие гиперплоскости при разных значениях C."
   ]
  },
  {
   "cell_type": "code",
   "execution_count": null,
   "id": "e20c4fa7",
   "metadata": {
    "id": "e20c4fa7"
   },
   "outputs": [],
   "source": [
    "# Создадим объект класса SVM c линейным ядром и C=1000000\n",
    "SVM_C_v1 = SVC(kernel='rbf', C=100000)\n",
    "# Обучение модели\n",
    "SVM_C_v1.fit(X_train, y_train);\n",
    "\n",
    "# Создадим объект класса SVM c линейным ядром и C=0.1\n",
    "SVM_C_v2 = SVC(kernel='rbf', C=0.1)\n",
    "# Обучение модели\n",
    "SVM_C_v2.fit(X_train, y_train);\n",
    "\n",
    "# Выведем границы классов по модели\n",
    "plot_contours(X_train.values, X_test.values, y_test.values, SVM_C_v1)\n",
    "plot_contours(X_train.values, X_test.values, y_test.values, SVM_C_v2)"
   ]
  },
  {
   "cell_type": "markdown",
   "id": "2dd0cff0",
   "metadata": {
    "id": "2dd0cff0"
   },
   "source": [
    "> # Задание\n",
    "\n",
    "> При помощи перебора параметров найти наиболее оптимальные гиперпараметры модели и посчитать метрики. Обучать модель необходимо на всем датасете (X,y) без разделения на train/test. Для выполнения задания необходимо воспользоваться модуем GridSearchCV, ниже краткое описание.\n",
    "Диапазоны параметров: ядра из множества (linear', 'poly', 'rbf'), параметр C (0.001, 0.01, 0.1, 1, 10), параметр gamma (0.01, 0.1, 0.5, 1), random state = 21. Для расчета метрики точности можно вызвать функцию `score` объекта `GridSearchCV`. Для вывода параметров наилучшей модели, можно воспользоваться функцией `best_estimator_` объекта `GridSearchCV`\n",
    "\n",
    "\n",
    "### GridSearchCV\n",
    "\n",
    "У каждого из алгоритмов есть определенный набор параметров, которые необходимо подобрать в процессе обучения модели. Но как оптимальнее всего автоматизировать этот процесс? Первое, что приходит в голову, это использовать циклы, внутри которых будем перебирать различные параметры модели. Но каждый раз описывать эти циклы довольно рутинно и неинтересно. Именно поэтому в библиотеке `Scikit-Learn` рализован инструмент перебора параметров, который называется `GridSearchCV`.\n",
    "`GridSearchCV` – это очень мощный инструмент для автоматического подбора параметров для моделей машинного обучения. `GridSearchCV` находит наилучшие параметры, путем обычного перебора: он создает модель для каждой возможной комбинации параметров. Также есть `RandomSearchCV` - это когда мы перебираем не по полной сетке возможных комбинаций параметров, а случайным образом выбираем комбинации и обучаем модели на них. Магические буквы `CV` - это кросс-валидация, пока параметр, отвечающий за этот функционал мы просто оставим равным 3, далее в лекциях поговорим что это такое и как с этим работать."
   ]
  },
  {
   "cell_type": "code",
   "execution_count": null,
   "id": "5d61c0dd",
   "metadata": {
    "id": "5d61c0dd"
   },
   "outputs": [],
   "source": [
    "# импорт нужного модуля\n",
    "from sklearn.model_selection import GridSearchCV\n",
    "\n",
    "# задаем словарь параметров для модели SVM, которые мы хотим варьироать в рамках\n",
    "# работы GridSearchCV\n",
    "parameters = {\n",
    "    'kernel':,\n",
    "    'C':,\n",
    "    'gamma':\n",
    "}\n",
    "\n",
    "# создать объект класса SVC (Support Vector Classifier) c random_state=21\n",
    "\n",
    "# создаем объект GridSearchCV с созданной моделью и param_grid с параметрами, которые задали ранее. Параметр cv=3\n",
    "\n",
    "# обучаем модель (для объекта GridSearchCV вызываем метод fit для всех исходных данных)\n"
   ]
  },
  {
   "cell_type": "code",
   "execution_count": null,
   "id": "3f4a374c",
   "metadata": {
    "id": "3f4a374c"
   },
   "outputs": [],
   "source": [
    "# Выведите метрику точности для обученной модели"
   ]
  },
  {
   "cell_type": "code",
   "execution_count": null,
   "id": "ba0bc2d5",
   "metadata": {
    "id": "ba0bc2d5"
   },
   "outputs": [],
   "source": [
    "# Выведите параметры наилучшей модели"
   ]
  }
 ],
 "metadata": {
  "colab": {
   "provenance": []
  },
  "kernelspec": {
   "display_name": "Python 3 (ipykernel)",
   "language": "python",
   "name": "python3"
  },
  "language_info": {
   "codemirror_mode": {
    "name": "ipython",
    "version": 3
   },
   "file_extension": ".py",
   "mimetype": "text/x-python",
   "name": "python",
   "nbconvert_exporter": "python",
   "pygments_lexer": "ipython3",
   "version": "3.13.0"
  }
 },
 "nbformat": 4,
 "nbformat_minor": 5
}
